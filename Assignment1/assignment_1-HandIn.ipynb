{
 "cells": [
  {
   "cell_type": "markdown",
   "metadata": {
    "deletable": false,
    "editable": false,
    "nbgrader": {
     "checksum": "52fdab5a075c0b5b2c392d9f3e890a9c",
     "grade": false,
     "grade_id": "cell-e81de4401376cd82",
     "locked": true,
     "schema_version": 1,
     "solution": false
    }
   },
   "source": [
    "# Mandatory Assignment 1\n",
    "\n",
    "This is the first of two mandatory assignments which must be completed during the course. First some practical information:\n",
    "\n",
    "* When is the assignment due?: **23:59, Sunday, August 19, 2018.**\n",
    "* How do you grade the assignment?: You will **peergrade** each other as primary grading. \n",
    "* Can i work with my group?: **yes**\n",
    "\n",
    "The assigment consist of one to tree problems from each of the exercise sets you have solved so far (excluding Set 1). We've tried to select problems which are self contained, but it might be nessecary to solve some of the previous exercises in each set to fully answer the problems in this assignment.\n",
    "\n",
    "## Problems from Exercise Set 2:\n",
    "\n",
    "> **Ex. 2.2**: Make two lists. The first should be numbered. The second should be unnumbered and contain at least one sublevel. "
   ]
  },
  {
   "cell_type": "code",
   "execution_count": 2,
   "metadata": {},
   "outputs": [],
   "source": [
    "# [Answer to Ex. 2.2 here] (convert to markdown cell)"
   ]
  },
  {
   "cell_type": "markdown",
   "metadata": {},
   "source": [
    "**List 1:**\n",
    "1. Contains a\n",
    "2. Contains b\n",
    "3. Contains c\n",
    "\n",
    "**List 2:**\n",
    "- Contains 1\n",
    "- Contains 2\n",
    "    - Contains 1.1\n",
    "    - Contains als 1.2\n",
    "- Contains 3\n",
    "\n"
   ]
  },
  {
   "cell_type": "markdown",
   "metadata": {
    "deletable": false,
    "editable": false,
    "nbgrader": {
     "checksum": "5dfa16d57d526109fffe155cea5147bc",
     "grade": false,
     "grade_id": "cell-075bc22ce52a4ffe",
     "locked": true,
     "schema_version": 1,
     "solution": false
    }
   },
   "source": [
    "## Problems from Exercise set 3:\n",
    "\n",
    "> **Ex. 3.1.3:** Let `l1 = ['r ', 'Is', '>', ' < ', 'g ', '?']`. Create from `l1` the sentence `\"Is r > g?\"` using your knowledge about string formatting. Store this new string in a variable called `answer_31`. Make sure there is only one space in between worlds.\n",
    ">\n",
    ">> _Hint:_ You should be able to combine the above informations to solve this exercise."
   ]
  },
  {
   "cell_type": "code",
   "execution_count": 19,
   "metadata": {
    "deletable": false,
    "nbgrader": {
     "checksum": "54f945a62727e4c9616a38b1d1f6673d",
     "grade": false,
     "grade_id": "problem_31",
     "locked": false,
     "schema_version": 1,
     "solution": true
    }
   },
   "outputs": [
    {
     "name": "stdout",
     "output_type": "stream",
     "text": [
      "answer_31 = Is r > g?\n"
     ]
    }
   ],
   "source": [
    "# [Answer to Ex. 3.1.3 here]\n",
    "l1 = ['r ', 'Is', '>', ' < ', 'g ', '?']\n",
    "\n",
    "# answer_31 = \n",
    "\n",
    "str1 = ' '.join(['Is', 'r', '>', 'g'])\n",
    "str2 = '?'\n",
    "answer_31 = str1+str2\n",
    "\n",
    "print('answer_31 =', answer_31)"
   ]
  },
  {
   "cell_type": "code",
   "execution_count": null,
   "metadata": {
    "deletable": false,
    "editable": false,
    "nbgrader": {
     "checksum": "99da4cf8dc98518963d95fb054131224",
     "grade": true,
     "grade_id": "problem_31_tests",
     "locked": true,
     "points": 1,
     "schema_version": 1,
     "solution": false
    }
   },
   "outputs": [],
   "source": [
    "assert answer_31 == \"Is r > g?\""
   ]
  },
  {
   "cell_type": "markdown",
   "metadata": {
    "deletable": false,
    "editable": false,
    "nbgrader": {
     "checksum": "dc2c4cc2a1cdba681ed1006bba8f4619",
     "grade": false,
     "grade_id": "cell-1d737e504b202c4a",
     "locked": true,
     "schema_version": 1,
     "solution": false
    }
   },
   "source": [
    "> **Ex. 3.1.4**: Create an empty dictionary `words` using the `dict()`function. Then add each of the words in `['animal', 'coffee', 'python', 'unit', 'knowledge', 'tread', 'arise']` as a key, with the value being a boolean indicator for whether the word begins with a vowel. The results should look like `{'bacon': False, 'asynchronous': True ...}`. Store the result in a new variable called `answer_32`.\n",
    ">\n",
    ">> _Hint:_ You might want co first construct a function that asseses whether a given word begins with a vowel or not."
   ]
  },
  {
   "cell_type": "code",
   "execution_count": 3,
   "metadata": {
    "deletable": false,
    "nbgrader": {
     "checksum": "77bbae13d6cb074fac5b05890acaf4e6",
     "grade": false,
     "grade_id": "problem_32",
     "locked": false,
     "schema_version": 1,
     "solution": true
    }
   },
   "outputs": [
    {
     "name": "stdout",
     "output_type": "stream",
     "text": [
      "{'animal': True, 'coffee': False, 'python': False, 'unit': True, 'knowledge': False, 'tread': False, 'arise': True}\n"
     ]
    }
   ],
   "source": [
    "# [Answer to Ex. 3.1.4 here]\n",
    "W = ['animal', 'coffee', 'python', 'unit', 'knowledge', 'tread', 'arise']\n",
    "\n",
    "# answer_32 = \n",
    "\n",
    "words_dict = dict()\n",
    "str1 = ['a', 'e', 'i', 'o', 'u']\n",
    "\n",
    "for vowel in W:\n",
    "    if vowel[0] in str1:\n",
    "        words_dict[vowel] = True\n",
    "    \n",
    "    else: \n",
    "        words_dict[vowel] = False\n",
    "        \n",
    "print(words_dict)"
   ]
  },
  {
   "cell_type": "code",
   "execution_count": null,
   "metadata": {
    "deletable": false,
    "editable": false,
    "nbgrader": {
     "checksum": "b9b444b7f9f76b5dc862d1aae155c794",
     "grade": true,
     "grade_id": "problem_32_tests",
     "locked": true,
     "points": 1,
     "schema_version": 1,
     "solution": false
    }
   },
   "outputs": [],
   "source": [
    "assert answer_32 == {i: i[0] in 'aeiou' for i in W}\n",
    "assert sorted(answer_32) == sorted(W)"
   ]
  },
  {
   "cell_type": "markdown",
   "metadata": {
    "deletable": false,
    "editable": false,
    "nbgrader": {
     "checksum": "29d96b09d12a59e80fc8cc796d836363",
     "grade": false,
     "grade_id": "cell-b4f75d07ccec62ef",
     "locked": true,
     "schema_version": 1,
     "solution": false
    }
   },
   "source": [
    "> **Ex. 3.3.2:** use the `requests` module (get it with `pip install requests`) and `construct_link()` which you defined in the previous question (ex 3.3.1) to request birth data from the \"FOD\" table. Get all available years (variable \"Tid\"), but only female births (BARNKON=P) . Unpack the json payload and store the result. Wrap the whole thing in a function which takes an url as input and returns the corresponding output.\n",
    ">\n",
    "> Store the birth data in a new variable called `answer_33`.\n",
    ">\n",
    ">> _Hint:_ The `requests.response` object has a `.json()` method. \n",
    ">\n",
    ">> _Note:_ you wrote `construct_link()` in 3.3.1, if you didn't heres the link you need to get: `https://api.statbank.dk/v1/data/FOLK1A/JSONSTAT?lang=en&Tid=*`"
   ]
  },
  {
   "cell_type": "code",
   "execution_count": 7,
   "metadata": {
    "deletable": false,
    "nbgrader": {
     "checksum": "68d07574aa272d282cfabe0adbd40035",
     "grade": false,
     "grade_id": "problem_33",
     "locked": false,
     "schema_version": 1,
     "solution": true
    }
   },
   "outputs": [],
   "source": [
    "# [Answer to Ex. 3.3.2 here]\n",
    "\n",
    "# answer_33 =\n",
    "import json\n",
    "import requests\n",
    "\n",
    "def construct_link(table_id, variables):\n",
    "    base = 'https://api.statbank.dk/v1/data/{id}/JSONSTAT?lang=en'.format(id = table_id)\n",
    "    \n",
    "    for var in variables:\n",
    "        base += '&{v}'.format(v = var)\n",
    "\n",
    "    return base \n",
    "\n",
    "construct_link('FOLK1A', ['Tid=*'])\n",
    "\n",
    "fod = requests.get(construct_link('FOD', ['Tid=*', 'BARNKON=P'])).json()\n",
    "fod_str = json.dumps(fod)\n",
    "\n",
    "with open('fod.json', 'w') as f:\n",
    "    f.write(fod_str)\n",
    "    \n",
    "def loadAPI(url):\n",
    "    data = requests.get(url).json()\n",
    "\n",
    "    return data\n",
    "\n",
    "answer_33 = loadAPI(construct_link('FOD', ['Tid=*', 'BARNKON=P']))"
   ]
  },
  {
   "cell_type": "code",
   "execution_count": 8,
   "metadata": {
    "deletable": false,
    "editable": false,
    "nbgrader": {
     "checksum": "05a6f9bbf5fc1d972e3bdfb90bf7d8c0",
     "grade": true,
     "grade_id": "problem_33_tests",
     "locked": true,
     "points": 1,
     "schema_version": 1,
     "solution": false
    }
   },
   "outputs": [],
   "source": [
    "assert sorted(answer_33['dataset'].keys()) == ['dimension', 'label', 'source', 'updated', 'value']\n",
    "assert 'BARNKON' in answer_33['dataset']['dimension'].keys()"
   ]
  },
  {
   "cell_type": "markdown",
   "metadata": {
    "deletable": false,
    "editable": false,
    "nbgrader": {
     "checksum": "080f814e193a79742f10b565f49e667b",
     "grade": false,
     "grade_id": "cell-7738e4de11c9ba89",
     "locked": true,
     "schema_version": 1,
     "solution": false
    }
   },
   "source": [
    "## Problems from exercise set 4\n"
   ]
  },
  {
   "cell_type": "code",
   "execution_count": 4,
   "metadata": {
    "deletable": false,
    "editable": false,
    "nbgrader": {
     "checksum": "dc62d41fddcf5f9cc24531cbc8aeb995",
     "grade": false,
     "grade_id": "cell-6ce85387893ff77f",
     "locked": true,
     "schema_version": 1,
     "solution": false
    }
   },
   "outputs": [],
   "source": [
    "import numpy as np\n",
    "import pandas as pd"
   ]
  },
  {
   "cell_type": "markdown",
   "metadata": {
    "deletable": false,
    "editable": false,
    "nbgrader": {
     "checksum": "8f4eb9718da6000d04736de9af469001",
     "grade": false,
     "grade_id": "cell-0cf565ee06bf9606",
     "locked": true,
     "schema_version": 1,
     "solution": false
    }
   },
   "source": [
    "> **Ex. 4.1.1:** Use Pandas' CSV reader to fetch  daily data weather from 1864 for various stations - available [here](https://www1.ncdc.noaa.gov/pub/data/ghcn/daily/by_year/). Store the dataframe in a variable called `answer_41`.\n",
    ">\n",
    ">> *Hint 1*: for compressed files you may need to specify the keyword `compression`.\n",
    ">\n",
    ">> *Hint 2*: keyword `header` can be specified as the CSV has no column names.\n",
    ">\n",
    ">> *Hint 3*: Specify the path, as the URL linking directly to the 1864 file. "
   ]
  },
  {
   "cell_type": "code",
   "execution_count": null,
   "metadata": {
    "deletable": false,
    "nbgrader": {
     "checksum": "c5b74ef23beb0bc773344af6e8e90809",
     "grade": false,
     "grade_id": "problem_41",
     "locked": false,
     "schema_version": 1,
     "solution": true
    }
   },
   "outputs": [],
   "source": [
    "# [Answer to Ex. 4.1.1 here]\n",
    "\n",
    "# answer_41 = \n",
    "\n",
    "# YOUR CODE HERE\n",
    "raise NotImplementedError()\n"
   ]
  },
  {
   "cell_type": "code",
   "execution_count": null,
   "metadata": {
    "deletable": false,
    "editable": false,
    "nbgrader": {
     "checksum": "238d18588151c3bdb43bce91f5f5c908",
     "grade": true,
     "grade_id": "problem_41_tests",
     "locked": true,
     "points": 1,
     "schema_version": 1,
     "solution": false
    }
   },
   "outputs": [],
   "source": [
    "assert answer_41.shape == (27349, 8)\n",
    "assert list(answer_41.columns) == list(range(8))"
   ]
  },
  {
   "cell_type": "markdown",
   "metadata": {
    "deletable": false,
    "editable": false,
    "nbgrader": {
     "checksum": "2c9865188a9e267f6ae311090805d3c6",
     "grade": false,
     "grade_id": "cell-fef3fd772e3b2e19",
     "locked": true,
     "schema_version": 1,
     "solution": false
    }
   },
   "source": [
    "> **Ex. 4.1.2:** Structure your weather DataFrame by using only the relevant columns (station identifier, data, observation type, observation value), rename them. Make sure observations are correctly formated (how many decimals should we add? one?).\n",
    ">\n",
    "> Store the resulting dataframe in a new variable called `answer_42`.\n",
    ">\n",
    ">> *Hint:* rename can be done with `df.columns=COLS` where `COLS` is a list of column names."
   ]
  },
  {
   "cell_type": "code",
   "execution_count": null,
   "metadata": {
    "deletable": false,
    "nbgrader": {
     "checksum": "f8b0be8cbe49efa6f85b2a318effdf31",
     "grade": false,
     "grade_id": "problem_42",
     "locked": false,
     "schema_version": 1,
     "solution": true
    }
   },
   "outputs": [],
   "source": [
    "# [Answer to Ex. 4.1.2 here]\n",
    "\n",
    "# answer_42 = \n",
    "\n",
    "# YOUR CODE HERE\n",
    "raise NotImplementedError()\n",
    "\n"
   ]
  },
  {
   "cell_type": "code",
   "execution_count": null,
   "metadata": {
    "deletable": false,
    "editable": false,
    "nbgrader": {
     "checksum": "5559217edb771ff89b82031f801c8eee",
     "grade": true,
     "grade_id": "problem_42_tests",
     "locked": true,
     "points": 1,
     "schema_version": 1,
     "solution": false
    }
   },
   "outputs": [],
   "source": [
    "assert answer_42.shape == (27349, 4)\n",
    "assert 144.8 in [answer_42[i].max() for i in answer_42]\n",
    "assert -666.0 in [answer_42[i].min() for i in answer_42]\n",
    "assert 18640101 in [answer_42[i].min() for i in answer_42]"
   ]
  },
  {
   "cell_type": "markdown",
   "metadata": {
    "deletable": false,
    "editable": false,
    "nbgrader": {
     "checksum": "003c5b1c802d4d1556083d23611093ad",
     "grade": false,
     "grade_id": "cell-323f47f2db7307c1",
     "locked": true,
     "schema_version": 1,
     "solution": false
    }
   },
   "source": [
    "> **Ex. 4.1.3:**  Select data for the station `ITE00100550` and only observations for maximal temperature. Make a copy of the DataFrame. Explain in a one or two sentences how copying works.\n",
    ">\n",
    "> Store the subsetted dataframe in a new variable called `answer_43`.\n",
    ">\n",
    ">> *Hint 1*: the `&` operator works elementwise on boolean series (like `and` in core python).\n",
    ">\n",
    ">> *Hint 2*: copying of the dataframe is done with the `copy` method for DataFrames."
   ]
  },
  {
   "cell_type": "code",
   "execution_count": null,
   "metadata": {
    "deletable": false,
    "nbgrader": {
     "checksum": "35bba693b17ba982b78783c2e510c1be",
     "grade": false,
     "grade_id": "problem_43",
     "locked": false,
     "schema_version": 1,
     "solution": true
    }
   },
   "outputs": [],
   "source": [
    "# [Answer to Ex. 4.1.3 here]\n",
    "\n",
    "# answer_43 = \n",
    "\n",
    "answer_43 = df_weather[(df_weather.station == 'ITE00100550') & (df_weather.obs_type == 'TMAX')].copy()"
   ]
  },
  {
   "cell_type": "code",
   "execution_count": null,
   "metadata": {
    "deletable": false,
    "editable": false,
    "nbgrader": {
     "checksum": "db7520577f35003b0ce18b42f0d6bd2e",
     "grade": true,
     "grade_id": "problem_43_tests",
     "locked": true,
     "points": 1,
     "schema_version": 1,
     "solution": false
    }
   },
   "outputs": [],
   "source": [
    "assert 'ITE00100550' in [answer_43[i].min() for i in answer_43]\n",
    "assert 'ITE00100550' in [answer_43[i].max() for i in answer_43]\n",
    "assert 'TMAX' in [answer_43[i].min() for i in answer_43]\n",
    "assert 'TMAX' in [answer_43[i].max() for i in answer_43]"
   ]
  },
  {
   "cell_type": "markdown",
   "metadata": {
    "deletable": false,
    "editable": false,
    "nbgrader": {
     "checksum": "40769f7d8f4a1b396187443bc14517d9",
     "grade": false,
     "grade_id": "cell-d6100b901a5d4ba8",
     "locked": true,
     "schema_version": 1,
     "solution": false
    }
   },
   "source": [
    "> **Ex. 4.1.4:** Make a new column in `answer_44` called `TMAX_F` where you have converted the temperature variables to Fahrenheit. Make sure not to overwrite `answer_43`.\n",
    ">\n",
    "> Store the resulting dataframe in a variable called `answer_44`.\n",
    ">\n",
    ">> *Hint*: Conversion is $F = 32 + 1.8*C$ where $F$ is Fahrenheit and $C$ is Celsius."
   ]
  },
  {
   "cell_type": "code",
   "execution_count": null,
   "metadata": {
    "deletable": false,
    "nbgrader": {
     "checksum": "e88dde4ccdbddb981100b636b0d1d448",
     "grade": false,
     "grade_id": "problem_44",
     "locked": false,
     "schema_version": 1,
     "solution": true
    }
   },
   "outputs": [],
   "source": [
    "# [Answer to Ex. 4.1.4 here]\n",
    "answer_44 = answer_43.copy()\n",
    "# answer_44 = \n",
    "\n",
    "answer_44['TMAX_F'] = 32 + 1.8 * answer_44['obs_value']\n",
    "\n",
    "answer_44 = answer_44.reset_index(drop=True).sort_values(by=['obs_value'])"
   ]
  },
  {
   "cell_type": "code",
   "execution_count": null,
   "metadata": {
    "deletable": false,
    "editable": false,
    "nbgrader": {
     "checksum": "cb8fb435c837f57fc91f5d55df8709c7",
     "grade": true,
     "grade_id": "problem_44_tests",
     "locked": true,
     "points": 1,
     "schema_version": 1,
     "solution": false
    }
   },
   "outputs": [],
   "source": [
    "assert set(answer_44.columns) -  set(answer_43.columns) == {'TMAX_F'}"
   ]
  },
  {
   "cell_type": "markdown",
   "metadata": {
    "deletable": false,
    "editable": false,
    "nbgrader": {
     "checksum": "7abe66bdec5e0922773485287403a31f",
     "grade": false,
     "grade_id": "cell-69a5ddb907fc34bc",
     "locked": true,
     "schema_version": 1,
     "solution": false
    }
   },
   "source": [
    "## Problems from exercise set 5"
   ]
  },
  {
   "cell_type": "code",
   "execution_count": 11,
   "metadata": {
    "deletable": false,
    "editable": false,
    "nbgrader": {
     "checksum": "3ec8e5eab14daeb68b706c206bce27a4",
     "grade": false,
     "grade_id": "cell-dc072f65e62126e4",
     "locked": true,
     "schema_version": 1,
     "solution": false
    }
   },
   "outputs": [],
   "source": [
    "import matplotlib.pyplot as plt\n",
    "import numpy as np \n",
    "import pandas as pd\n",
    "import seaborn as sns \n",
    "\n",
    "%matplotlib inline \n",
    "\n",
    "iris = sns.load_dataset('iris')\n",
    "titanic = sns.load_dataset('titanic')"
   ]
  },
  {
   "cell_type": "markdown",
   "metadata": {
    "deletable": false,
    "editable": false,
    "nbgrader": {
     "checksum": "44db0d95253cc709f8289a00c40bd014",
     "grade": false,
     "grade_id": "cell-ef0604c76e360580",
     "locked": true,
     "schema_version": 1,
     "solution": false
    }
   },
   "source": [
    "> **Ex. 5.1.1:**: Show the first five rows of the titanic dataset. What information is in the dataset? Use a barplot to show the probability of survival for men and women within each passenger class. Can you make a boxplot showing the same information (why/why not?). _Bonus:_ show a boxplot for the fare-prices within each passenger class. \n",
    ">\n",
    "> Spend five minutes discussing what you can learn about the survival-selection aboard titanic from the figure(s).\n",
    ">\n",
    "> > _Hint:_ https://seaborn.pydata.org/generated/seaborn.barplot.html, specifically the `hue` option.\n"
   ]
  },
  {
   "cell_type": "code",
   "execution_count": 6,
   "metadata": {
    "deletable": false,
    "nbgrader": {
     "checksum": "18ef2e9eff41ceb6b26fb588206b684f",
     "grade": true,
     "grade_id": "problem_51",
     "locked": false,
     "points": 1,
     "schema_version": 1,
     "solution": true
    }
   },
   "outputs": [
    {
     "name": "stdout",
     "output_type": "stream",
     "text": [
      "   survived  pclass     sex   age  sibsp  parch     fare embarked  class  \\\n",
      "0         0       3    male  22.0      1      0   7.2500        S  Third   \n",
      "1         1       1  female  38.0      1      0  71.2833        C  First   \n",
      "2         1       3  female  26.0      0      0   7.9250        S  Third   \n",
      "3         1       1  female  35.0      1      0  53.1000        S  First   \n",
      "4         0       3    male  35.0      0      0   8.0500        S  Third   \n",
      "\n",
      "     who  adult_male deck  embark_town alive  alone  \n",
      "0    man        True  NaN  Southampton    no  False  \n",
      "1  woman       False    C    Cherbourg   yes  False  \n",
      "2  woman       False  NaN  Southampton   yes   True  \n",
      "3  woman       False    C  Southampton   yes  False  \n",
      "4    man        True  NaN  Southampton    no   True  \n"
     ]
    }
   ],
   "source": [
    "# [Answer to Ex. 5.1.1 here]\n",
    "\n",
    "titanic = sns.load_dataset('titanic')\n",
    "print(titanic.head(5))"
   ]
  },
  {
   "cell_type": "code",
   "execution_count": 7,
   "metadata": {},
   "outputs": [
    {
     "data": {
      "image/png": "[encoded data removed]",
      "text/plain": [
       "<Figure size 432x288 with 1 Axes>"
      ]
     },
     "metadata": {
      "needs_background": "light"
     },
     "output_type": "display_data"
    }
   ],
   "source": [
    "f = sns.barplot(x='class', y='survived', hue='sex', data=titanic)"
   ]
  },
  {
   "cell_type": "markdown",
   "metadata": {},
   "source": [
    "### Discuss\n",
    "***Why we can or cannot make a boxplot of showing the same info***"
   ]
  },
  {
   "cell_type": "code",
   "execution_count": 8,
   "metadata": {},
   "outputs": [
    {
     "data": {
      "image/png": "[encoded data removed]",
      "text/plain": [
       "<Figure size 720x288 with 2 Axes>"
      ]
     },
     "metadata": {
      "needs_background": "light"
     },
     "output_type": "display_data"
    }
   ],
   "source": [
    "# Bonus Ex. 5.1.1\n",
    "\n",
    "f, axes = plt.subplots(1, 2,\n",
    "                      figsize = (10, 4))\n",
    "\n",
    "f = sns.boxplot(x='class', y='fare', data=titanic, ax=axes[0])\n",
    "f = sns.boxplot(x='class', y='fare', data=titanic, showfliers=False, ax=axes[1]) # without outliners"
   ]
  },
  {
   "cell_type": "markdown",
   "metadata": {
    "deletable": false,
    "editable": false,
    "nbgrader": {
     "checksum": "fc466900f77bd9400665fc24523ba7d7",
     "grade": false,
     "grade_id": "cell-8d78955bde3112ba",
     "locked": true,
     "schema_version": 1,
     "solution": false
    }
   },
   "source": [
    "> **Ex. 5.1.2:** Using the iris flower dataset, draw a scatterplot of sepal length and petal length. Include a second order polynomial fitted to the data. Add a title to the plot and rename the axis labels.\n",
    "> _Discuss:_ Is this a meaningful way to display the data? What could we do differently?\n",
    ">\n",
    "> For a better understanding of the dataset this image might be useful:\n",
    "> <img src=\"iris_pic.png\" alt=\"Drawing\" style=\"width: 200px;\"/>\n",
    ">\n",
    ">> _Hint:_ use the `.regplot` method from seaborn. "
   ]
  },
  {
   "cell_type": "code",
   "execution_count": 9,
   "metadata": {
    "deletable": false,
    "nbgrader": {
     "checksum": "cdb3b79fb6852431c37310696e841913",
     "grade": true,
     "grade_id": "cell-8631e73e3796008b",
     "locked": false,
     "points": 1,
     "schema_version": 1,
     "solution": true
    }
   },
   "outputs": [
    {
     "data": {
      "text/plain": [
       "Text(0, 0.5, 'sepal_length')"
      ]
     },
     "execution_count": 9,
     "metadata": {},
     "output_type": "execute_result"
    },
    {
     "data": {
      "image/png": "[encoded data removed]",
      "text/plain": [
       "<Figure size 432x288 with 1 Axes>"
      ]
     },
     "metadata": {
      "needs_background": "light"
     },
     "output_type": "display_data"
    }
   ],
   "source": [
    "# [Answer to Ex. 5.1.2 here]\n",
    "\n",
    "ax = sns.regplot(x=iris['petal_length'], y=iris['sepal_length'],\n",
    "                 scatter_kws={\"s\": 80},\n",
    "                 order=2, ci=None, truncate=True)\n",
    "\n",
    "plt.title('Iris flower')\n",
    "plt.xlabel('petal_length')\n",
    "plt.ylabel('sepal_length')"
   ]
  },
  {
   "cell_type": "markdown",
   "metadata": {
    "deletable": false,
    "editable": false,
    "nbgrader": {
     "checksum": "f6955bf905fc3c63c64ac4420d11d1f6",
     "grade": false,
     "grade_id": "cell-95796f67165019ab",
     "locked": true,
     "schema_version": 1,
     "solution": false
    }
   },
   "source": [
    "> **Ex. 5.1.3:** Combine the two of the figures you created above into a two-panel figure similar to the one shown here:\n",
    "> <img src=\"Example.png\" alt=\"Drawing\" style=\"width: 600px;\"/>\n",
    ">\n",
    "> Save the figure as a png file on your computer. \n",
    ">> _Hint:_ See [this question](https://stackoverflow.com/questions/41384040/subplot-for-seaborn-boxplot) on stackoverflow for inspiration."
   ]
  },
  {
   "cell_type": "code",
   "execution_count": 12,
   "metadata": {
    "deletable": false,
    "nbgrader": {
     "checksum": "5552793303f021420e75daf3f7caa237",
     "grade": true,
     "grade_id": "cell-686e1fcbc475435a",
     "locked": false,
     "points": 1,
     "schema_version": 1,
     "solution": true
    }
   },
   "outputs": [
    {
     "data": {
      "image/png": "[encoded data removed]",
      "text/plain": [
       "<Figure size 648x216 with 2 Axes>"
      ]
     },
     "metadata": {
      "needs_background": "light"
     },
     "output_type": "display_data"
    }
   ],
   "source": [
    "# [Answer to Ex. 5.1.3 here]\n",
    "\n",
    "f, axes = plt.subplots(1, 2,\n",
    "                       figsize = (9, 3))\n",
    "\n",
    "sns.barplot(x='class', y='survived', hue='sex', data=titanic, ax=axes[0])\n",
    "sns.regplot(x=iris['petal_length'], y=iris['sepal_length'], ax=axes[1],\n",
    "                 scatter_kws={\"s\": 25},\n",
    "                 order=2, ci=None, truncate=True)\n",
    "\n",
    "# safe the image\n",
    "from matplotlib import pyplot as plt\n",
    "\n",
    "plt.savefig('excercise5.1.3.png')"
   ]
  },
  {
   "cell_type": "markdown",
   "metadata": {
    "deletable": false,
    "editable": false,
    "nbgrader": {
     "checksum": "d4010a7acb4875fd0440dbc6057bb84a",
     "grade": false,
     "grade_id": "cell-e280df998b60ae2f",
     "locked": true,
     "schema_version": 1,
     "solution": false
    }
   },
   "source": [
    "> **Ex. 5.1.4:** Use [pairplot with hue](https://seaborn.pydata.org/generated/seaborn.pairplot.html) to create a figure that clearly shows how the different species vary across measurements. Change the color palette and remove the shading from the density plots. _Bonus:_ Try to explain how the `diag_kws` argument works (_hint:_ [read here](https://stackoverflow.com/questions/1769403/understanding-kwargs-in-python))"
   ]
  },
  {
   "cell_type": "code",
   "execution_count": 13,
   "metadata": {
    "deletable": false,
    "nbgrader": {
     "checksum": "492a7bf33f9d310739162fae57556a1f",
     "grade": true,
     "grade_id": "cell-0f5793c056a02040",
     "locked": false,
     "points": 1,
     "schema_version": 1,
     "solution": true
    }
   },
   "outputs": [
    {
     "data": {
      "image/png": "[encoded data removed]",
      "text/plain": [
       "<Figure size 804.75x720 with 20 Axes>"
      ]
     },
     "metadata": {
      "needs_background": "light"
     },
     "output_type": "display_data"
    }
   ],
   "source": [
    "# [Answer to Ex. 5.1.4 here]\n",
    "\n",
    "g = sns.pairplot(iris, hue=\"species\", palette=\"husl\",\n",
    "                diag_kws=dict(shade=False))"
   ]
  },
  {
   "cell_type": "code",
   "execution_count": 15,
   "metadata": {},
   "outputs": [],
   "source": [
    "# Bonus Ex. 5.1.4"
   ]
  },
  {
   "cell_type": "markdown",
   "metadata": {
    "deletable": false,
    "editable": false,
    "nbgrader": {
     "checksum": "50981ef2a4bf0b5c3c2c69baea6a7685",
     "grade": false,
     "grade_id": "cell-ee43396c59c5301f",
     "locked": true,
     "schema_version": 1,
     "solution": false
    }
   },
   "source": [
    "## Problems from exercise set 6\n",
    "\n",
    "> _Note:_ In the exercises we asked you to download weather data from the NOAA website. For this assignment the data are loaded in the following code cell into two pandas dataframes."
   ]
  },
  {
   "cell_type": "code",
   "execution_count": 2,
   "metadata": {
    "deletable": false,
    "editable": false,
    "nbgrader": {
     "checksum": "06644b5719b20405b4baee66e20fe061",
     "grade": false,
     "grade_id": "cell-834b03b8b15b0307",
     "locked": true,
     "schema_version": 1,
     "solution": false
    }
   },
   "outputs": [],
   "source": [
    "%matplotlib inline\n",
    "import pandas as pd\n",
    "import matplotlib.pyplot as plt\n",
    "\n",
    "weather_1864 = pd.read_csv('weather_data_1864.csv')"
   ]
  },
  {
   "cell_type": "markdown",
   "metadata": {
    "deletable": false,
    "editable": false,
    "nbgrader": {
     "checksum": "b31c95426614b2adb9069483b538734e",
     "grade": false,
     "grade_id": "cell-3b947e0bc3564fc0",
     "locked": true,
     "schema_version": 1,
     "solution": false
    }
   },
   "source": [
    "> **Ex. 6.1.4:** Extract the country code from the station name into a separate column.\n",
    ">\n",
    "> Create a new column in `weather_1864` called `answer_61` and store the country codes here.\n",
    ">\n",
    ">> _Hint:_ The station column contains a GHCND ID, given to each weather station by NOAA. The format of these ID's is a 2-3 letter country code, followed by a integer identifying the specific station. A simple approach is to assume a fixed length of the country ID. A more complex way would be to use the [`re`](https://docs.python.org/2/library/re.html) module."
   ]
  },
  {
   "cell_type": "code",
   "execution_count": 5,
   "metadata": {
    "deletable": false,
    "nbgrader": {
     "checksum": "449adcf52422faf0dec2cd826ff87d2a",
     "grade": false,
     "grade_id": "problem_61",
     "locked": false,
     "schema_version": 1,
     "solution": true
    }
   },
   "outputs": [
    {
     "data": {
      "text/html": [
       "<div>\n",
       "<style scoped>\n",
       "    .dataframe tbody tr th:only-of-type {\n",
       "        vertical-align: middle;\n",
       "    }\n",
       "\n",
       "    .dataframe tbody tr th {\n",
       "        vertical-align: top;\n",
       "    }\n",
       "\n",
       "    .dataframe thead th {\n",
       "        text-align: right;\n",
       "    }\n",
       "</style>\n",
       "<table border=\"1\" class=\"dataframe\">\n",
       "  <thead>\n",
       "    <tr style=\"text-align: right;\">\n",
       "      <th></th>\n",
       "      <th>station</th>\n",
       "      <th>datetime</th>\n",
       "      <th>obs_type</th>\n",
       "      <th>obs_value</th>\n",
       "      <th>TMAX_F</th>\n",
       "      <th>datetime_dt</th>\n",
       "      <th>answer_61</th>\n",
       "    </tr>\n",
       "  </thead>\n",
       "  <tbody>\n",
       "    <tr>\n",
       "      <th>0</th>\n",
       "      <td>SZ000006717</td>\n",
       "      <td>18640226</td>\n",
       "      <td>TMAX</td>\n",
       "      <td>-34.0</td>\n",
       "      <td>-29.20</td>\n",
       "      <td>1864-02-26</td>\n",
       "      <td>SZ0</td>\n",
       "    </tr>\n",
       "    <tr>\n",
       "      <th>1</th>\n",
       "      <td>SZ000006717</td>\n",
       "      <td>18640208</td>\n",
       "      <td>TMAX</td>\n",
       "      <td>-17.4</td>\n",
       "      <td>0.68</td>\n",
       "      <td>1864-02-08</td>\n",
       "      <td>SZ0</td>\n",
       "    </tr>\n",
       "    <tr>\n",
       "      <th>2</th>\n",
       "      <td>CA006158350</td>\n",
       "      <td>18640217</td>\n",
       "      <td>TMAX</td>\n",
       "      <td>-16.7</td>\n",
       "      <td>1.94</td>\n",
       "      <td>1864-02-17</td>\n",
       "      <td>CA0</td>\n",
       "    </tr>\n",
       "    <tr>\n",
       "      <th>3</th>\n",
       "      <td>SZ000006717</td>\n",
       "      <td>18640103</td>\n",
       "      <td>TMAX</td>\n",
       "      <td>-16.5</td>\n",
       "      <td>2.30</td>\n",
       "      <td>1864-01-03</td>\n",
       "      <td>SZ0</td>\n",
       "    </tr>\n",
       "    <tr>\n",
       "      <th>4</th>\n",
       "      <td>CA006158350</td>\n",
       "      <td>18640102</td>\n",
       "      <td>TMAX</td>\n",
       "      <td>-16.1</td>\n",
       "      <td>3.02</td>\n",
       "      <td>1864-01-02</td>\n",
       "      <td>CA0</td>\n",
       "    </tr>\n",
       "  </tbody>\n",
       "</table>\n",
       "</div>"
      ],
      "text/plain": [
       "       station  datetime obs_type  obs_value  TMAX_F datetime_dt answer_61\n",
       "0  SZ000006717  18640226     TMAX      -34.0  -29.20  1864-02-26       SZ0\n",
       "1  SZ000006717  18640208     TMAX      -17.4    0.68  1864-02-08       SZ0\n",
       "2  CA006158350  18640217     TMAX      -16.7    1.94  1864-02-17       CA0\n",
       "3  SZ000006717  18640103     TMAX      -16.5    2.30  1864-01-03       SZ0\n",
       "4  CA006158350  18640102     TMAX      -16.1    3.02  1864-01-02       CA0"
      ]
     },
     "execution_count": 5,
     "metadata": {},
     "output_type": "execute_result"
    }
   ],
   "source": [
    "# [Answer to Ex. 6.1.4]\n",
    "# weather_1864['answer_61'] =\n",
    "\n",
    "df_weather= weather_1864.assign(countryid=weather_1864['station'].str.slice(stop=3))\n",
    "df_weather.rename(columns={'countryid': 'answer_61'}, inplace=True)\n",
    "df_weather.head()\n"
   ]
  },
  {
   "cell_type": "code",
   "execution_count": 6,
   "metadata": {
    "deletable": false,
    "editable": false,
    "nbgrader": {
     "checksum": "149a5ad93fbe65bcda27008f62ebc94a",
     "grade": true,
     "grade_id": "problem_61_tests",
     "locked": true,
     "points": 1,
     "schema_version": 1,
     "solution": false
    }
   },
   "outputs": [
    {
     "ename": "KeyError",
     "evalue": "'answer_61'",
     "output_type": "error",
     "traceback": [
      "\u001b[0;31m---------------------------------------------------------------------------\u001b[0m",
      "\u001b[0;31mKeyError\u001b[0m                                  Traceback (most recent call last)",
      "\u001b[0;32m//anaconda3/lib/python3.7/site-packages/pandas/core/indexes/base.py\u001b[0m in \u001b[0;36mget_loc\u001b[0;34m(self, key, method, tolerance)\u001b[0m\n\u001b[1;32m   2656\u001b[0m             \u001b[0;32mtry\u001b[0m\u001b[0;34m:\u001b[0m\u001b[0;34m\u001b[0m\u001b[0;34m\u001b[0m\u001b[0m\n\u001b[0;32m-> 2657\u001b[0;31m                 \u001b[0;32mreturn\u001b[0m \u001b[0mself\u001b[0m\u001b[0;34m.\u001b[0m\u001b[0m_engine\u001b[0m\u001b[0;34m.\u001b[0m\u001b[0mget_loc\u001b[0m\u001b[0;34m(\u001b[0m\u001b[0mkey\u001b[0m\u001b[0;34m)\u001b[0m\u001b[0;34m\u001b[0m\u001b[0;34m\u001b[0m\u001b[0m\n\u001b[0m\u001b[1;32m   2658\u001b[0m             \u001b[0;32mexcept\u001b[0m \u001b[0mKeyError\u001b[0m\u001b[0;34m:\u001b[0m\u001b[0;34m\u001b[0m\u001b[0;34m\u001b[0m\u001b[0m\n",
      "\u001b[0;32mpandas/_libs/index.pyx\u001b[0m in \u001b[0;36mpandas._libs.index.IndexEngine.get_loc\u001b[0;34m()\u001b[0m\n",
      "\u001b[0;32mpandas/_libs/index.pyx\u001b[0m in \u001b[0;36mpandas._libs.index.IndexEngine.get_loc\u001b[0;34m()\u001b[0m\n",
      "\u001b[0;32mpandas/_libs/hashtable_class_helper.pxi\u001b[0m in \u001b[0;36mpandas._libs.hashtable.PyObjectHashTable.get_item\u001b[0;34m()\u001b[0m\n",
      "\u001b[0;32mpandas/_libs/hashtable_class_helper.pxi\u001b[0m in \u001b[0;36mpandas._libs.hashtable.PyObjectHashTable.get_item\u001b[0;34m()\u001b[0m\n",
      "\u001b[0;31mKeyError\u001b[0m: 'answer_61'",
      "\nDuring handling of the above exception, another exception occurred:\n",
      "\u001b[0;31mKeyError\u001b[0m                                  Traceback (most recent call last)",
      "\u001b[0;32m<ipython-input-6-5b00cb64306a>\u001b[0m in \u001b[0;36m<module>\u001b[0;34m()\u001b[0m\n\u001b[0;32m----> 1\u001b[0;31m \u001b[0;32massert\u001b[0m \u001b[0msorted\u001b[0m\u001b[0;34m(\u001b[0m\u001b[0mweather_1864\u001b[0m\u001b[0;34m[\u001b[0m\u001b[0;34m'answer_61'\u001b[0m\u001b[0;34m]\u001b[0m\u001b[0;34m.\u001b[0m\u001b[0mstr\u001b[0m\u001b[0;34m[\u001b[0m\u001b[0;34m:\u001b[0m\u001b[0;36m2\u001b[0m\u001b[0;34m]\u001b[0m\u001b[0;34m.\u001b[0m\u001b[0munique\u001b[0m\u001b[0;34m(\u001b[0m\u001b[0;34m)\u001b[0m\u001b[0;34m)\u001b[0m \u001b[0;34m==\u001b[0m \u001b[0msorted\u001b[0m\u001b[0;34m(\u001b[0m\u001b[0;34m[\u001b[0m\u001b[0;34m'SZ'\u001b[0m\u001b[0;34m,\u001b[0m \u001b[0;34m'CA'\u001b[0m\u001b[0;34m,\u001b[0m \u001b[0;34m'EZ'\u001b[0m\u001b[0;34m,\u001b[0m \u001b[0;34m'GM'\u001b[0m\u001b[0;34m,\u001b[0m \u001b[0;34m'AU'\u001b[0m\u001b[0;34m,\u001b[0m \u001b[0;34m'IT'\u001b[0m\u001b[0;34m,\u001b[0m \u001b[0;34m'BE'\u001b[0m\u001b[0;34m,\u001b[0m \u001b[0;34m'UK'\u001b[0m\u001b[0;34m,\u001b[0m \u001b[0;34m'EI'\u001b[0m\u001b[0;34m,\u001b[0m \u001b[0;34m'AG'\u001b[0m\u001b[0;34m,\u001b[0m \u001b[0;34m'AS'\u001b[0m\u001b[0;34m]\u001b[0m\u001b[0;34m)\u001b[0m\u001b[0;34m\u001b[0m\u001b[0;34m\u001b[0m\u001b[0m\n\u001b[0m",
      "\u001b[0;32m//anaconda3/lib/python3.7/site-packages/pandas/core/frame.py\u001b[0m in \u001b[0;36m__getitem__\u001b[0;34m(self, key)\u001b[0m\n\u001b[1;32m   2925\u001b[0m             \u001b[0;32mif\u001b[0m \u001b[0mself\u001b[0m\u001b[0;34m.\u001b[0m\u001b[0mcolumns\u001b[0m\u001b[0;34m.\u001b[0m\u001b[0mnlevels\u001b[0m \u001b[0;34m>\u001b[0m \u001b[0;36m1\u001b[0m\u001b[0;34m:\u001b[0m\u001b[0;34m\u001b[0m\u001b[0;34m\u001b[0m\u001b[0m\n\u001b[1;32m   2926\u001b[0m                 \u001b[0;32mreturn\u001b[0m \u001b[0mself\u001b[0m\u001b[0;34m.\u001b[0m\u001b[0m_getitem_multilevel\u001b[0m\u001b[0;34m(\u001b[0m\u001b[0mkey\u001b[0m\u001b[0;34m)\u001b[0m\u001b[0;34m\u001b[0m\u001b[0;34m\u001b[0m\u001b[0m\n\u001b[0;32m-> 2927\u001b[0;31m             \u001b[0mindexer\u001b[0m \u001b[0;34m=\u001b[0m \u001b[0mself\u001b[0m\u001b[0;34m.\u001b[0m\u001b[0mcolumns\u001b[0m\u001b[0;34m.\u001b[0m\u001b[0mget_loc\u001b[0m\u001b[0;34m(\u001b[0m\u001b[0mkey\u001b[0m\u001b[0;34m)\u001b[0m\u001b[0;34m\u001b[0m\u001b[0;34m\u001b[0m\u001b[0m\n\u001b[0m\u001b[1;32m   2928\u001b[0m             \u001b[0;32mif\u001b[0m \u001b[0mis_integer\u001b[0m\u001b[0;34m(\u001b[0m\u001b[0mindexer\u001b[0m\u001b[0;34m)\u001b[0m\u001b[0;34m:\u001b[0m\u001b[0;34m\u001b[0m\u001b[0;34m\u001b[0m\u001b[0m\n\u001b[1;32m   2929\u001b[0m                 \u001b[0mindexer\u001b[0m \u001b[0;34m=\u001b[0m \u001b[0;34m[\u001b[0m\u001b[0mindexer\u001b[0m\u001b[0;34m]\u001b[0m\u001b[0;34m\u001b[0m\u001b[0;34m\u001b[0m\u001b[0m\n",
      "\u001b[0;32m//anaconda3/lib/python3.7/site-packages/pandas/core/indexes/base.py\u001b[0m in \u001b[0;36mget_loc\u001b[0;34m(self, key, method, tolerance)\u001b[0m\n\u001b[1;32m   2657\u001b[0m                 \u001b[0;32mreturn\u001b[0m \u001b[0mself\u001b[0m\u001b[0;34m.\u001b[0m\u001b[0m_engine\u001b[0m\u001b[0;34m.\u001b[0m\u001b[0mget_loc\u001b[0m\u001b[0;34m(\u001b[0m\u001b[0mkey\u001b[0m\u001b[0;34m)\u001b[0m\u001b[0;34m\u001b[0m\u001b[0;34m\u001b[0m\u001b[0m\n\u001b[1;32m   2658\u001b[0m             \u001b[0;32mexcept\u001b[0m \u001b[0mKeyError\u001b[0m\u001b[0;34m:\u001b[0m\u001b[0;34m\u001b[0m\u001b[0;34m\u001b[0m\u001b[0m\n\u001b[0;32m-> 2659\u001b[0;31m                 \u001b[0;32mreturn\u001b[0m \u001b[0mself\u001b[0m\u001b[0;34m.\u001b[0m\u001b[0m_engine\u001b[0m\u001b[0;34m.\u001b[0m\u001b[0mget_loc\u001b[0m\u001b[0;34m(\u001b[0m\u001b[0mself\u001b[0m\u001b[0;34m.\u001b[0m\u001b[0m_maybe_cast_indexer\u001b[0m\u001b[0;34m(\u001b[0m\u001b[0mkey\u001b[0m\u001b[0;34m)\u001b[0m\u001b[0;34m)\u001b[0m\u001b[0;34m\u001b[0m\u001b[0;34m\u001b[0m\u001b[0m\n\u001b[0m\u001b[1;32m   2660\u001b[0m         \u001b[0mindexer\u001b[0m \u001b[0;34m=\u001b[0m \u001b[0mself\u001b[0m\u001b[0;34m.\u001b[0m\u001b[0mget_indexer\u001b[0m\u001b[0;34m(\u001b[0m\u001b[0;34m[\u001b[0m\u001b[0mkey\u001b[0m\u001b[0;34m]\u001b[0m\u001b[0;34m,\u001b[0m \u001b[0mmethod\u001b[0m\u001b[0;34m=\u001b[0m\u001b[0mmethod\u001b[0m\u001b[0;34m,\u001b[0m \u001b[0mtolerance\u001b[0m\u001b[0;34m=\u001b[0m\u001b[0mtolerance\u001b[0m\u001b[0;34m)\u001b[0m\u001b[0;34m\u001b[0m\u001b[0;34m\u001b[0m\u001b[0m\n\u001b[1;32m   2661\u001b[0m         \u001b[0;32mif\u001b[0m \u001b[0mindexer\u001b[0m\u001b[0;34m.\u001b[0m\u001b[0mndim\u001b[0m \u001b[0;34m>\u001b[0m \u001b[0;36m1\u001b[0m \u001b[0;32mor\u001b[0m \u001b[0mindexer\u001b[0m\u001b[0;34m.\u001b[0m\u001b[0msize\u001b[0m \u001b[0;34m>\u001b[0m \u001b[0;36m1\u001b[0m\u001b[0;34m:\u001b[0m\u001b[0;34m\u001b[0m\u001b[0;34m\u001b[0m\u001b[0m\n",
      "\u001b[0;32mpandas/_libs/index.pyx\u001b[0m in \u001b[0;36mpandas._libs.index.IndexEngine.get_loc\u001b[0;34m()\u001b[0m\n",
      "\u001b[0;32mpandas/_libs/index.pyx\u001b[0m in \u001b[0;36mpandas._libs.index.IndexEngine.get_loc\u001b[0;34m()\u001b[0m\n",
      "\u001b[0;32mpandas/_libs/hashtable_class_helper.pxi\u001b[0m in \u001b[0;36mpandas._libs.hashtable.PyObjectHashTable.get_item\u001b[0;34m()\u001b[0m\n",
      "\u001b[0;32mpandas/_libs/hashtable_class_helper.pxi\u001b[0m in \u001b[0;36mpandas._libs.hashtable.PyObjectHashTable.get_item\u001b[0;34m()\u001b[0m\n",
      "\u001b[0;31mKeyError\u001b[0m: 'answer_61'"
     ]
    }
   ],
   "source": [
    "assert sorted(weather_1864['answer_61'].str[:2].unique()) == sorted(['SZ', 'CA', 'EZ', 'GM', 'AU', 'IT', 'BE', 'UK', 'EI', 'AG', 'AS'])"
   ]
  },
  {
   "cell_type": "markdown",
   "metadata": {
    "deletable": false,
    "editable": false,
    "nbgrader": {
     "checksum": "d720993d20e02b6684611da9488872ea",
     "grade": false,
     "grade_id": "cell-369017dafb1e6d7c",
     "locked": true,
     "schema_version": 1,
     "solution": false
    }
   },
   "source": [
    "> **Ex. 6.1.5:** Make a function that downloads and formats the weather data according to previous exercises in Exercise Section 4.1, 6.1. You should use data for ALL stations but still only select maximal temperature. _Bonus:_ To validate that your function works plot the temperature curve for each country in the same window. Use `plt.legend()` to add a legend. \n",
    ">\n",
    "> Name your function `prepareWeatherData`."
   ]
  },
  {
   "cell_type": "code",
   "execution_count": 11,
   "metadata": {
    "deletable": false,
    "nbgrader": {
     "checksum": "920bf57a90b7599b51659c580eb9d604",
     "grade": false,
     "grade_id": "problem_62",
     "locked": false,
     "schema_version": 1,
     "solution": true
    }
   },
   "outputs": [
    {
     "data": {
      "text/html": [
       "<div>\n",
       "<style scoped>\n",
       "    .dataframe tbody tr th:only-of-type {\n",
       "        vertical-align: middle;\n",
       "    }\n",
       "\n",
       "    .dataframe tbody tr th {\n",
       "        vertical-align: top;\n",
       "    }\n",
       "\n",
       "    .dataframe thead th {\n",
       "        text-align: right;\n",
       "    }\n",
       "</style>\n",
       "<table border=\"1\" class=\"dataframe\">\n",
       "  <thead>\n",
       "    <tr style=\"text-align: right;\">\n",
       "      <th></th>\n",
       "      <th>station</th>\n",
       "      <th>datetime</th>\n",
       "      <th>obs_type</th>\n",
       "      <th>obs_value</th>\n",
       "      <th>TMAX_F</th>\n",
       "    </tr>\n",
       "  </thead>\n",
       "  <tbody>\n",
       "    <tr>\n",
       "      <th>845</th>\n",
       "      <td>SZ000006717</td>\n",
       "      <td>18640226</td>\n",
       "      <td>TMAX</td>\n",
       "      <td>-34.0</td>\n",
       "      <td>-29.20</td>\n",
       "    </tr>\n",
       "    <tr>\n",
       "      <th>577</th>\n",
       "      <td>SZ000006717</td>\n",
       "      <td>18640208</td>\n",
       "      <td>TMAX</td>\n",
       "      <td>-17.4</td>\n",
       "      <td>0.68</td>\n",
       "    </tr>\n",
       "    <tr>\n",
       "      <th>699</th>\n",
       "      <td>CA006158350</td>\n",
       "      <td>18640217</td>\n",
       "      <td>TMAX</td>\n",
       "      <td>-16.7</td>\n",
       "      <td>1.94</td>\n",
       "    </tr>\n",
       "    <tr>\n",
       "      <th>42</th>\n",
       "      <td>SZ000006717</td>\n",
       "      <td>18640103</td>\n",
       "      <td>TMAX</td>\n",
       "      <td>-16.5</td>\n",
       "      <td>2.30</td>\n",
       "    </tr>\n",
       "    <tr>\n",
       "      <th>16</th>\n",
       "      <td>CA006158350</td>\n",
       "      <td>18640102</td>\n",
       "      <td>TMAX</td>\n",
       "      <td>-16.1</td>\n",
       "      <td>3.02</td>\n",
       "    </tr>\n",
       "  </tbody>\n",
       "</table>\n",
       "</div>"
      ],
      "text/plain": [
       "         station  datetime obs_type  obs_value  TMAX_F\n",
       "845  SZ000006717  18640226     TMAX      -34.0  -29.20\n",
       "577  SZ000006717  18640208     TMAX      -17.4    0.68\n",
       "699  CA006158350  18640217     TMAX      -16.7    1.94\n",
       "42   SZ000006717  18640103     TMAX      -16.5    2.30\n",
       "16   CA006158350  18640102     TMAX      -16.1    3.02"
      ]
     },
     "execution_count": 11,
     "metadata": {},
     "output_type": "execute_result"
    }
   ],
   "source": [
    "# [Answer to Ex. 6.1.5]\n",
    "\n",
    "def prepareWeatherData(year):\n",
    "    url = 'https://www1.ncdc.noaa.gov/pub/data/ghcn/daily/by_year/'+year+'.csv.gz'\n",
    "    df_weather = pd.read_csv(url,\n",
    "            compression='gzip',\n",
    "            header=None).iloc[:,:4]\n",
    "#Puts in column names as listed\n",
    "    df_weather.columns = ['station','datetime', 'obs_type', 'obs_value']\n",
    "    df_weather['obs_value'] = df_weather['obs_value'] / 10\n",
    "#Making so the table only shows Max temperature\n",
    "    df_select = df_weather[(df_weather.obs_type == 'TMAX')].copy()\n",
    "    \n",
    "#Making a column that shows the temperature in fahrenheit\n",
    "    df_select['TMAX_F'] = 32 + 1.8 * df_select['obs_value']\n",
    "    \n",
    "#resets the index and sorts the table by max temperature\n",
    "    df_sorted = df_select.reset_index(drop=True).sort_values(by=['obs_value'])\n",
    "    \n",
    "    return (df_sorted)\n",
    "prepareWeatherData('1864').head()"
   ]
  },
  {
   "cell_type": "code",
   "execution_count": null,
   "metadata": {},
   "outputs": [],
   "source": [
    "# Bonus Ex. 6.1.5"
   ]
  },
  {
   "cell_type": "code",
   "execution_count": 12,
   "metadata": {
    "deletable": false,
    "editable": false,
    "nbgrader": {
     "checksum": "21b573bbe818e27e3cba31ba439f889d",
     "grade": true,
     "grade_id": "problem_62_tests",
     "locked": true,
     "points": 1,
     "schema_version": 1,
     "solution": false
    }
   },
   "outputs": [
    {
     "ename": "AssertionError",
     "evalue": "",
     "output_type": "error",
     "traceback": [
      "\u001b[0;31m---------------------------------------------------------------------------\u001b[0m",
      "\u001b[0;31mAssertionError\u001b[0m                            Traceback (most recent call last)",
      "\u001b[0;32m<ipython-input-12-ca9059d8f70a>\u001b[0m in \u001b[0;36m<module>\u001b[0;34m()\u001b[0m\n\u001b[0;32m----> 1\u001b[0;31m \u001b[0;32massert\u001b[0m \u001b[0mprepareWeatherData\u001b[0m\u001b[0;34m(\u001b[0m\u001b[0;34m'1864'\u001b[0m\u001b[0;34m)\u001b[0m\u001b[0;34m.\u001b[0m\u001b[0mshape\u001b[0m \u001b[0;34m==\u001b[0m \u001b[0;34m(\u001b[0m\u001b[0;36m5686\u001b[0m\u001b[0;34m,\u001b[0m \u001b[0;36m6\u001b[0m\u001b[0;34m)\u001b[0m\u001b[0;34m\u001b[0m\u001b[0;34m\u001b[0m\u001b[0m\n\u001b[0m",
      "\u001b[0;31mAssertionError\u001b[0m: "
     ]
    }
   ],
   "source": [
    "assert prepareWeatherData('1864').shape == (5686, 6)"
   ]
  },
  {
   "cell_type": "markdown",
   "metadata": {
    "deletable": false,
    "editable": false,
    "nbgrader": {
     "checksum": "d0a38a1a62cf78e9c6214e21ea8e6174",
     "grade": false,
     "grade_id": "cell-e206cc10e0354153",
     "locked": true,
     "schema_version": 1,
     "solution": false
    }
   },
   "source": [
    "## Problems from exercise set 7\n",
    "\n",
    "> _Note:_ Once again if you haven't managed to download the data from NOAA, you can refer to the github repo to get csv-files containing the required data."
   ]
  },
  {
   "cell_type": "code",
   "execution_count": 13,
   "metadata": {
    "deletable": false,
    "editable": false,
    "nbgrader": {
     "checksum": "aae2b85bce7a1f050aba06e5f14f07c8",
     "grade": false,
     "grade_id": "cell-15d553fb5be81d7a",
     "locked": true,
     "schema_version": 1,
     "solution": false
    }
   },
   "outputs": [],
   "source": [
    "%matplotlib inline \n",
    "\n",
    "import pandas as pd \n",
    "import matplotlib.pyplot as plt\n",
    "import matplotlib as mpl\n",
    "\n",
    "# Increases the plot size a little\n",
    "mpl.rcParams['figure.figsize'] = 11, 6"
   ]
  },
  {
   "cell_type": "markdown",
   "metadata": {
    "deletable": false,
    "editable": false,
    "nbgrader": {
     "checksum": "807c2181bc38762b44c6706d86291424",
     "grade": false,
     "grade_id": "cell-c48aef6db605ecd8",
     "locked": true,
     "schema_version": 1,
     "solution": false
    }
   },
   "source": [
    "> **Ex. 7.1.1:** Plot the monthly max,min, mean, first and third quartiles for maximum temperature for our station with the ID _'ITE00100550'_ in 1864. \n",
    "\n",
    "> *Hint*: the method `describe` computes all these measures."
   ]
  },
  {
   "cell_type": "code",
   "execution_count": 67,
   "metadata": {
    "deletable": false,
    "nbgrader": {
     "checksum": "ecfe6ce83747d19c96ac19778351daee",
     "grade": true,
     "grade_id": "problem_71",
     "locked": false,
     "points": 1,
     "schema_version": 1,
     "solution": true
    }
   },
   "outputs": [],
   "source": [
    "# [Answer to Ex. 7.1.1]\n",
    "\n",
    "def weather(year):\n",
    "    url = 'https://www1.ncdc.noaa.gov/pub/data/ghcn/daily/by_year/'+year+'.csv.gz'\n",
    "    df_weather = pd.read_csv(url,\n",
    "            compression='gzip',\n",
    "            header=None).iloc[:,:4]\n",
    "#Puts in column names as listed\n",
    "    df_weather.columns = ['station','datetime', 'obs_type', 'obs_value']\n",
    "    df_weather['obs_value'] = df_weather['obs_value'] / 10\n",
    "#Making so the table only shows Max temperature\n",
    "    df_select = df_weather[(df_weather.obs_type == 'TMAX')].copy()\n",
    "    \n",
    "#Making a column that shows the temperature in F\n",
    "    df_select['TMAX_F'] = 32 + 1.8 * df_select['obs_value']\n",
    "    \n",
    "#resets the index and sorts the table by max temperature\n",
    "    df_sorted = df_select.reset_index(drop=True).sort_values(by=['obs_value'])\n",
    "    \n",
    "#Makes the Date column to datetime format and then makes a column with the month\n",
    "    df_sorted['datetime'] = pd.to_datetime(df_sorted['datetime'], format = \"%Y%m%d\")\n",
    "    df_sorted['month'] = df_sorted['datetime'].dt.month\n",
    "    \n",
    "#Makes a column with the country code\n",
    "    df_sorted['country_code'] = df_sorted['station'].str[0:3]\n",
    "    \n",
    "    return df_sorted\n",
    "\n",
    "weather_1864= weather('1864')"
   ]
  },
  {
   "cell_type": "code",
   "execution_count": 21,
   "metadata": {},
   "outputs": [
    {
     "data": {
      "text/html": [
       "<div>\n",
       "<style scoped>\n",
       "    .dataframe tbody tr th:only-of-type {\n",
       "        vertical-align: middle;\n",
       "    }\n",
       "\n",
       "    .dataframe tbody tr th {\n",
       "        vertical-align: top;\n",
       "    }\n",
       "\n",
       "    .dataframe thead th {\n",
       "        text-align: right;\n",
       "    }\n",
       "</style>\n",
       "<table border=\"1\" class=\"dataframe\">\n",
       "  <thead>\n",
       "    <tr style=\"text-align: right;\">\n",
       "      <th></th>\n",
       "      <th>count</th>\n",
       "      <th>mean</th>\n",
       "      <th>std</th>\n",
       "      <th>min</th>\n",
       "      <th>25%</th>\n",
       "      <th>50%</th>\n",
       "      <th>75%</th>\n",
       "      <th>max</th>\n",
       "    </tr>\n",
       "    <tr>\n",
       "      <th>month</th>\n",
       "      <th></th>\n",
       "      <th></th>\n",
       "      <th></th>\n",
       "      <th></th>\n",
       "      <th></th>\n",
       "      <th></th>\n",
       "      <th></th>\n",
       "      <th></th>\n",
       "    </tr>\n",
       "  </thead>\n",
       "  <tbody>\n",
       "    <tr>\n",
       "      <th>1</th>\n",
       "      <td>93.0</td>\n",
       "      <td>-1.916129</td>\n",
       "      <td>4.045268</td>\n",
       "      <td>-13.8</td>\n",
       "      <td>-4.300</td>\n",
       "      <td>0.00</td>\n",
       "      <td>0.00</td>\n",
       "      <td>6.0</td>\n",
       "    </tr>\n",
       "    <tr>\n",
       "      <th>2</th>\n",
       "      <td>87.0</td>\n",
       "      <td>2.156322</td>\n",
       "      <td>5.305848</td>\n",
       "      <td>-7.1</td>\n",
       "      <td>-0.450</td>\n",
       "      <td>0.00</td>\n",
       "      <td>5.00</td>\n",
       "      <td>22.7</td>\n",
       "    </tr>\n",
       "    <tr>\n",
       "      <th>3</th>\n",
       "      <td>93.0</td>\n",
       "      <td>6.204301</td>\n",
       "      <td>5.589118</td>\n",
       "      <td>-0.8</td>\n",
       "      <td>0.700</td>\n",
       "      <td>5.30</td>\n",
       "      <td>10.30</td>\n",
       "      <td>24.3</td>\n",
       "    </tr>\n",
       "    <tr>\n",
       "      <th>4</th>\n",
       "      <td>90.0</td>\n",
       "      <td>8.355556</td>\n",
       "      <td>8.917715</td>\n",
       "      <td>-0.6</td>\n",
       "      <td>0.000</td>\n",
       "      <td>6.30</td>\n",
       "      <td>14.95</td>\n",
       "      <td>53.5</td>\n",
       "    </tr>\n",
       "    <tr>\n",
       "      <th>5</th>\n",
       "      <td>93.0</td>\n",
       "      <td>11.936559</td>\n",
       "      <td>9.404021</td>\n",
       "      <td>0.0</td>\n",
       "      <td>1.000</td>\n",
       "      <td>12.00</td>\n",
       "      <td>19.50</td>\n",
       "      <td>44.5</td>\n",
       "    </tr>\n",
       "    <tr>\n",
       "      <th>6</th>\n",
       "      <td>90.0</td>\n",
       "      <td>14.554444</td>\n",
       "      <td>10.952206</td>\n",
       "      <td>0.0</td>\n",
       "      <td>0.000</td>\n",
       "      <td>16.40</td>\n",
       "      <td>24.70</td>\n",
       "      <td>31.3</td>\n",
       "    </tr>\n",
       "    <tr>\n",
       "      <th>7</th>\n",
       "      <td>93.0</td>\n",
       "      <td>15.993548</td>\n",
       "      <td>12.107497</td>\n",
       "      <td>0.0</td>\n",
       "      <td>0.000</td>\n",
       "      <td>18.10</td>\n",
       "      <td>28.40</td>\n",
       "      <td>32.5</td>\n",
       "    </tr>\n",
       "    <tr>\n",
       "      <th>8</th>\n",
       "      <td>93.0</td>\n",
       "      <td>15.849462</td>\n",
       "      <td>12.110610</td>\n",
       "      <td>0.0</td>\n",
       "      <td>0.000</td>\n",
       "      <td>18.80</td>\n",
       "      <td>26.30</td>\n",
       "      <td>34.8</td>\n",
       "    </tr>\n",
       "    <tr>\n",
       "      <th>9</th>\n",
       "      <td>90.0</td>\n",
       "      <td>13.261111</td>\n",
       "      <td>10.060812</td>\n",
       "      <td>0.0</td>\n",
       "      <td>0.250</td>\n",
       "      <td>15.15</td>\n",
       "      <td>21.20</td>\n",
       "      <td>29.9</td>\n",
       "    </tr>\n",
       "    <tr>\n",
       "      <th>10</th>\n",
       "      <td>93.0</td>\n",
       "      <td>8.450538</td>\n",
       "      <td>6.989878</td>\n",
       "      <td>0.0</td>\n",
       "      <td>0.000</td>\n",
       "      <td>8.50</td>\n",
       "      <td>15.00</td>\n",
       "      <td>20.5</td>\n",
       "    </tr>\n",
       "    <tr>\n",
       "      <th>11</th>\n",
       "      <td>90.0</td>\n",
       "      <td>7.451111</td>\n",
       "      <td>12.468371</td>\n",
       "      <td>0.0</td>\n",
       "      <td>2.075</td>\n",
       "      <td>5.15</td>\n",
       "      <td>9.85</td>\n",
       "      <td>113.0</td>\n",
       "    </tr>\n",
       "    <tr>\n",
       "      <th>12</th>\n",
       "      <td>93.0</td>\n",
       "      <td>2.698925</td>\n",
       "      <td>4.017881</td>\n",
       "      <td>-3.4</td>\n",
       "      <td>0.000</td>\n",
       "      <td>1.60</td>\n",
       "      <td>4.60</td>\n",
       "      <td>21.2</td>\n",
       "    </tr>\n",
       "  </tbody>\n",
       "</table>\n",
       "</div>"
      ],
      "text/plain": [
       "       count       mean        std   min    25%    50%    75%    max\n",
       "month                                                               \n",
       "1       93.0  -1.916129   4.045268 -13.8 -4.300   0.00   0.00    6.0\n",
       "2       87.0   2.156322   5.305848  -7.1 -0.450   0.00   5.00   22.7\n",
       "3       93.0   6.204301   5.589118  -0.8  0.700   5.30  10.30   24.3\n",
       "4       90.0   8.355556   8.917715  -0.6  0.000   6.30  14.95   53.5\n",
       "5       93.0  11.936559   9.404021   0.0  1.000  12.00  19.50   44.5\n",
       "6       90.0  14.554444  10.952206   0.0  0.000  16.40  24.70   31.3\n",
       "7       93.0  15.993548  12.107497   0.0  0.000  18.10  28.40   32.5\n",
       "8       93.0  15.849462  12.110610   0.0  0.000  18.80  26.30   34.8\n",
       "9       90.0  13.261111  10.060812   0.0  0.250  15.15  21.20   29.9\n",
       "10      93.0   8.450538   6.989878   0.0  0.000   8.50  15.00   20.5\n",
       "11      90.0   7.451111  12.468371   0.0  2.075   5.15   9.85  113.0\n",
       "12      93.0   2.698925   4.017881  -3.4  0.000   1.60   4.60   21.2"
      ]
     },
     "execution_count": 21,
     "metadata": {},
     "output_type": "execute_result"
    }
   ],
   "source": [
    "weather_1864[weather_1864['station'] == 'ITE00100550'].groupby(\"month\")['obs_value'].describe()"
   ]
  },
  {
   "cell_type": "code",
   "execution_count": 22,
   "metadata": {},
   "outputs": [
    {
     "data": {
      "text/html": [
       "<div>\n",
       "<style scoped>\n",
       "    .dataframe tbody tr th:only-of-type {\n",
       "        vertical-align: middle;\n",
       "    }\n",
       "\n",
       "    .dataframe tbody tr th {\n",
       "        vertical-align: top;\n",
       "    }\n",
       "\n",
       "    .dataframe thead th {\n",
       "        text-align: right;\n",
       "    }\n",
       "</style>\n",
       "<table border=\"1\" class=\"dataframe\">\n",
       "  <thead>\n",
       "    <tr style=\"text-align: right;\">\n",
       "      <th></th>\n",
       "      <th>station</th>\n",
       "      <th>datetime</th>\n",
       "      <th>obs_type</th>\n",
       "      <th>obs_value</th>\n",
       "      <th>month</th>\n",
       "      <th>country_code</th>\n",
       "    </tr>\n",
       "  </thead>\n",
       "  <tbody>\n",
       "    <tr>\n",
       "      <th>0</th>\n",
       "      <td>ITE00100550</td>\n",
       "      <td>1864-01-01</td>\n",
       "      <td>TMAX</td>\n",
       "      <td>1.0</td>\n",
       "      <td>1</td>\n",
       "      <td>ITE</td>\n",
       "    </tr>\n",
       "    <tr>\n",
       "      <th>1</th>\n",
       "      <td>ITE00100550</td>\n",
       "      <td>1864-01-01</td>\n",
       "      <td>TMIN</td>\n",
       "      <td>-2.3</td>\n",
       "      <td>1</td>\n",
       "      <td>ITE</td>\n",
       "    </tr>\n",
       "    <tr>\n",
       "      <th>2</th>\n",
       "      <td>ITE00100550</td>\n",
       "      <td>1864-01-01</td>\n",
       "      <td>PRCP</td>\n",
       "      <td>2.5</td>\n",
       "      <td>1</td>\n",
       "      <td>ITE</td>\n",
       "    </tr>\n",
       "    <tr>\n",
       "      <th>3</th>\n",
       "      <td>ASN00079028</td>\n",
       "      <td>1864-01-01</td>\n",
       "      <td>PRCP</td>\n",
       "      <td>0.0</td>\n",
       "      <td>1</td>\n",
       "      <td>ASN</td>\n",
       "    </tr>\n",
       "    <tr>\n",
       "      <th>4</th>\n",
       "      <td>USC00064757</td>\n",
       "      <td>1864-01-01</td>\n",
       "      <td>PRCP</td>\n",
       "      <td>11.9</td>\n",
       "      <td>1</td>\n",
       "      <td>USC</td>\n",
       "    </tr>\n",
       "  </tbody>\n",
       "</table>\n",
       "</div>"
      ],
      "text/plain": [
       "       station   datetime obs_type  obs_value  month country_code\n",
       "0  ITE00100550 1864-01-01     TMAX        1.0      1          ITE\n",
       "1  ITE00100550 1864-01-01     TMIN       -2.3      1          ITE\n",
       "2  ITE00100550 1864-01-01     PRCP        2.5      1          ITE\n",
       "3  ASN00079028 1864-01-01     PRCP        0.0      1          ASN\n",
       "4  USC00064757 1864-01-01     PRCP       11.9      1          USC"
      ]
     },
     "execution_count": 22,
     "metadata": {},
     "output_type": "execute_result"
    }
   ],
   "source": [
    "weather_1864.head()"
   ]
  },
  {
   "cell_type": "markdown",
   "metadata": {
    "deletable": false,
    "editable": false,
    "nbgrader": {
     "checksum": "210cb4ca3448895862b65daa1a32b1f1",
     "grade": false,
     "grade_id": "cell-0e3079a5520618d4",
     "locked": true,
     "schema_version": 1,
     "solution": false
    }
   },
   "source": [
    "> **Ex. 7.1.2:** Get the processed data from years 1864-1867 as a list of DataFrames. Convert the list into a single DataFrame by concatenating vertically. \n",
    ">\n",
    "> Name the concatenated data `answer_72`"
   ]
  },
  {
   "cell_type": "code",
   "execution_count": 68,
   "metadata": {
    "deletable": false,
    "nbgrader": {
     "checksum": "b221fc2dbd44eb50ad781368243b9a9c",
     "grade": false,
     "grade_id": "problem_72",
     "locked": false,
     "schema_version": 1,
     "solution": true
    }
   },
   "outputs": [
    {
     "name": "stdout",
     "output_type": "stream",
     "text": [
      "          station   datetime obs_type  obs_value  TMAX_F  month country_code\n",
      "845   SZ000006717 1864-02-26     TMAX      -34.0  -29.20      2          SZ0\n",
      "577   SZ000006717 1864-02-08     TMAX      -17.4    0.68      2          SZ0\n",
      "699   CA006158350 1864-02-17     TMAX      -16.7    1.94      2          CA0\n",
      "42    SZ000006717 1864-01-03     TMAX      -16.5    2.30      1          SZ0\n",
      "16    CA006158350 1864-01-02     TMAX      -16.1    3.02      1          CA0\n",
      "607   SZ000006717 1864-02-10     TMAX      -15.9    3.38      2          SZ0\n",
      "199   EZE00100082 1864-01-14     TMAX      -15.1    4.82      1          EZE\n",
      "592   SZ000006717 1864-02-09     TMAX      -15.0    5.00      2          SZ0\n",
      "741   SZ000006717 1864-02-19     TMAX      -14.7    5.54      2          SZ0\n",
      "533   SZ000006717 1864-02-05     TMAX      -14.4    6.08      2          SZ0\n",
      "756   SZ000006717 1864-02-20     TMAX      -14.2    6.44      2          SZ0\n",
      "229   EZE00100082 1864-01-16     TMAX      -14.2    6.44      1          EZE\n",
      "714   CA006158350 1864-02-18     TMAX      -13.9    6.98      2          CA0\n",
      "562   SZ000006717 1864-02-07     TMAX      -13.8    7.16      2          SZ0\n",
      "184   EZE00100082 1864-01-13     TMAX      -13.8    7.16      1          EZE\n",
      "726   SZ000006717 1864-02-18     TMAX      -13.3    8.06      2          SZ0\n",
      "69    GM000004204 1864-01-05     TMAX      -12.5    9.50      1          GM0\n",
      "243   EZE00100082 1864-01-17     TMAX      -12.2   10.04      1          EZE\n",
      "273   EZE00100082 1864-01-19     TMAX      -12.2   10.04      1          EZE\n",
      "54    GM000004204 1864-01-04     TMAX      -12.1   10.22      1          GM0\n",
      "5559  SZ000006717 1864-12-23     TMAX      -11.8   10.76     12          SZ0\n",
      "5531  CA006158350 1864-12-22     TMAX      -11.7   10.94     12          CA0\n",
      "265   SZ000006717 1864-01-18     TMAX      -11.6   11.12      1          SZ0\n",
      "622   SZ000006717 1864-02-11     TMAX      -11.6   11.12      2          SZ0\n",
      "49    GME00125218 1864-01-04     TMAX      -11.5   11.30      1          GME\n",
      "1334  SZ000006717 1864-03-30     TMAX      -11.3   11.66      3          SZ0\n",
      "5597  EZE00100082 1864-12-26     TMAX      -11.2   11.84     12          EZE\n",
      "72    SZ000006717 1864-01-05     TMAX      -11.1   12.02      1          SZ0\n",
      "5567  EZE00100082 1864-12-24     TMAX      -11.0   12.20     12          EZE\n",
      "28    SZ000006717 1864-01-02     TMAX      -10.7   12.74      1          SZ0\n",
      "...           ...        ...      ...        ...     ...    ...          ...\n",
      "637   ASN00090015 1867-01-25     TMAX       37.8  100.04      1          ASN\n",
      "1894  ASN00074128 1867-03-14     TMAX       37.8  100.04      3          ASN\n",
      "5363  CA006153192 1867-07-24     TMAX       37.8  100.04      7          CA0\n",
      "1996  ASN00074128 1867-03-18     TMAX       37.8  100.04      3          ASN\n",
      "1070  ASN00074128 1867-02-11     TMAX       37.8  100.04      2          ASN\n",
      "615   ASN00086071 1867-01-25     TMAX       38.3  100.94      1          ASN\n",
      "969   ASN00074128 1867-02-07     TMAX       38.3  100.94      2          ASN\n",
      "223   ASN00074128 1867-01-09     TMAX       38.4  101.12      1          ASN\n",
      "706   ASN00074128 1867-01-28     TMAX       38.9  102.02      1          ASN\n",
      "9041  ASN00074128 1867-12-10     TMAX       38.9  102.02     12          ASN\n",
      "664   ASN00090015 1867-01-26     TMAX       38.9  102.02      1          ASN\n",
      "8411  ASN00074128 1867-11-16     TMAX       38.9  102.02     11          ASN\n",
      "642   ASN00086071 1867-01-26     TMAX       39.4  102.92      1          ASN\n",
      "1439  ASN00074128 1867-02-25     TMAX       40.0  104.00      2          ASN\n",
      "1708  ASN00074128 1867-03-07     TMAX       40.0  104.00      3          ASN\n",
      "661   ASN00074128 1867-01-26     TMAX       40.1  104.18      1          ASN\n",
      "125   ASN00074128 1867-01-05     TMAX       40.1  104.18      1          ASN\n",
      "9262  ASN00086071 1867-12-19     TMAX       40.3  104.54     12          ASN\n",
      "21    ASN00074128 1867-01-01     TMAX       40.6  105.08      1          ASN\n",
      "8753  ASN00074128 1867-11-29     TMAX       40.6  105.08     11          ASN\n",
      "1467  ASN00074128 1867-02-26     TMAX       41.1  105.98      2          ASN\n",
      "9069  ASN00074128 1867-12-11     TMAX       41.1  105.98     12          ASN\n",
      "304   ASN00074128 1867-01-12     TMAX       41.2  106.16      1          ASN\n",
      "1098  ASN00074128 1867-02-12     TMAX       41.7  107.06      2          ASN\n",
      "285   ASN00086071 1867-01-12     TMAX       42.4  108.32      1          ASN\n",
      "47    ASN00074128 1867-01-02     TMAX       42.8  109.04      1          ASN\n",
      "9310  ASN00074128 1867-12-20     TMAX       43.3  109.94     12          ASN\n",
      "375   ASN00074128 1867-01-15     TMAX       45.1  113.18      1          ASN\n",
      "73    ASN00074128 1867-01-03     TMAX       46.2  115.16      1          ASN\n",
      "349   ASN00074128 1867-01-14     TMAX       46.7  116.06      1          ASN\n",
      "\n",
      "[30003 rows x 7 columns]\n"
     ]
    }
   ],
   "source": [
    "# [Answer to Ex. 7.1.2]\n",
    "\n",
    "weather_1865 = weather('1865')\n",
    "weather_1866 = weather('1866')\n",
    "weather_1867 = weather('1867')\n",
    "\n",
    "list1800 = [weather_1864, weather_1865, weather_1866, weather_1867]\n",
    "\n",
    "answer_72 = pd.concat(list1800)\n",
    "print(answer_72)"
   ]
  },
  {
   "cell_type": "code",
   "execution_count": 66,
   "metadata": {},
   "outputs": [
    {
     "data": {
      "text/plain": [
       "(141724, 6)"
      ]
     },
     "execution_count": 66,
     "metadata": {},
     "output_type": "execute_result"
    }
   ],
   "source": [
    "answer_72.shape"
   ]
  },
  {
   "cell_type": "code",
   "execution_count": 69,
   "metadata": {
    "deletable": false,
    "editable": false,
    "nbgrader": {
     "checksum": "107cafe2715660c3c36cb1ffab1e7fd6",
     "grade": true,
     "grade_id": "problem_72_tests",
     "locked": true,
     "points": 1,
     "schema_version": 1,
     "solution": false
    }
   },
   "outputs": [],
   "source": [
    "assert answer_72.shape == (30003, 7)"
   ]
  },
  {
   "cell_type": "markdown",
   "metadata": {
    "deletable": false,
    "editable": false,
    "nbgrader": {
     "checksum": "1a8926f4bb982bcc276dc7e8b5f1c3e0",
     "grade": false,
     "grade_id": "cell-5b9d68d7b6583e3d",
     "locked": true,
     "schema_version": 1,
     "solution": false
    }
   },
   "source": [
    "> **Ex. 7.1.3:** Parse the station location data which you can find at https://www1.ncdc.noaa.gov/pub/data/ghcn/daily/ghcnd-stations.txt. Merge station locations onto the weather data spanning 1864-1867.  \n",
    ">\n",
    "> Store the merged data in a new variable called `answer_73`.\n",
    ">\n",
    "> _Hint:_ The location data have the folllowing format, \n",
    "\n",
    "```\n",
    "------------------------------\n",
    "Variable   Columns   Type\n",
    "------------------------------\n",
    "ID            1-11   Character\n",
    "LATITUDE     13-20   Real\n",
    "LONGITUDE    22-30   Real\n",
    "ELEVATION    32-37   Real\n",
    "STATE        39-40   Character\n",
    "NAME         42-71   Character\n",
    "GSN FLAG     73-75   Character\n",
    "HCN/CRN FLAG 77-79   Character\n",
    "WMO ID       81-85   Character\n",
    "------------------------------\n",
    "```\n",
    "\n",
    "> *Hint*: The station information has fixed width format - does there exist a pandas reader for that?"
   ]
  },
  {
   "cell_type": "code",
   "execution_count": null,
   "metadata": {
    "deletable": false,
    "nbgrader": {
     "checksum": "167a6bcc96b0b283f04e3506dffefedb",
     "grade": false,
     "grade_id": "problem_73",
     "locked": false,
     "schema_version": 1,
     "solution": true
    }
   },
   "outputs": [],
   "source": [
    "# [Answer to Ex. 7.1.3]\n",
    "\n",
    "# YOUR CODE HERE\n",
    "raise NotImplementedError()"
   ]
  },
  {
   "cell_type": "code",
   "execution_count": null,
   "metadata": {
    "deletable": false,
    "editable": false,
    "nbgrader": {
     "checksum": "47dd6b4fd0458276b20dd22afbf6e952",
     "grade": true,
     "grade_id": "problem_73_tests",
     "locked": true,
     "points": 1,
     "schema_version": 1,
     "solution": false
    }
   },
   "outputs": [],
   "source": [
    "assert answer_73.shape == (5686, 15) or answer_73.shape == (30003, 15)"
   ]
  },
  {
   "cell_type": "markdown",
   "metadata": {
    "deletable": false,
    "editable": false,
    "nbgrader": {
     "checksum": "71047da6e2e34b2c66bbddb6e2dba62a",
     "grade": false,
     "grade_id": "cell-01cb09ebc1fe07d8",
     "locked": true,
     "schema_version": 1,
     "solution": false
    }
   },
   "source": [
    "## Problems from exercise set 8\n",
    "\n",
    "> **Ex. 8.1.2.:** Use the `request` module to collect the first page of job postings.\n",
    ">\n",
    "> Store the response.json() object in a new variable called `answer_81`.\n",
    "> "
   ]
  },
  {
   "cell_type": "code",
   "execution_count": 34,
   "metadata": {
    "deletable": false,
    "nbgrader": {
     "checksum": "3675e9996445e60c9c55871bbf9656b5",
     "grade": false,
     "grade_id": "problem_81",
     "locked": false,
     "schema_version": 1,
     "solution": true
    }
   },
   "outputs": [
    {
     "name": "stdout",
     "output_type": "stream",
     "text": [
      "Requirement already satisfied: scraping_class in /anaconda3/lib/python3.7/site-packages (0.2)\r\n"
     ]
    }
   ],
   "source": [
    "# [Answer to Ex. 8.1.2]\n",
    "\n",
    "!pip install scraping_class\n",
    "import scraping_class \n",
    "logfile = 'group7.txt'\n",
    "connector = scraping_class.Connector(logfile)"
   ]
  },
  {
   "cell_type": "code",
   "execution_count": 32,
   "metadata": {},
   "outputs": [
    {
     "data": {
      "text/plain": [
       "200"
      ]
     },
     "execution_count": 32,
     "metadata": {},
     "output_type": "execute_result"
    }
   ],
   "source": [
    "import pandas as pd\n",
    "import requests\n",
    "url = 'https://job.jobnet.dk/CV/FindWork/Search'\n",
    "r = requests.get(url) #download json file using requests\n",
    "r.status_code"
   ]
  },
  {
   "cell_type": "code",
   "execution_count": 53,
   "metadata": {},
   "outputs": [],
   "source": [
    "answer_81 = r.json()\n"
   ]
  },
  {
   "cell_type": "code",
   "execution_count": 52,
   "metadata": {
    "deletable": false,
    "editable": false,
    "nbgrader": {
     "checksum": "a870431a18f53296a6d3676efb0e5ffc",
     "grade": true,
     "grade_id": "problem_81_tests",
     "locked": true,
     "points": 1,
     "schema_version": 1,
     "solution": false
    }
   },
   "outputs": [],
   "source": [
    "assert sorted(answer_81.keys()) == sorted(['Expression', 'Facets', 'JobPositionPostings', 'TotalResultCount'])"
   ]
  },
  {
   "cell_type": "markdown",
   "metadata": {
    "deletable": false,
    "editable": false,
    "nbgrader": {
     "checksum": "fe4949db01017cc8618490263967fe1b",
     "grade": false,
     "grade_id": "cell-6f74cab704e1fb70",
     "locked": true,
     "schema_version": 1,
     "solution": false
    }
   },
   "source": [
    "> **Ex. 8.1.3.:** Store the 'TotalResultCount' value for later use. Also create a dataframe from the 'JobPositionPostings' field in the json. Name this dataframe `answer_82`."
   ]
  },
  {
   "cell_type": "code",
   "execution_count": 58,
   "metadata": {
    "deletable": false,
    "nbgrader": {
     "checksum": "b554f0f47fb8dacb41d1517d1afc42a3",
     "grade": false,
     "grade_id": "problem_82",
     "locked": false,
     "schema_version": 1,
     "solution": true
    }
   },
   "outputs": [
    {
     "data": {
      "text/plain": [
       "14759"
      ]
     },
     "execution_count": 58,
     "metadata": {},
     "output_type": "execute_result"
    }
   ],
   "source": [
    "# [Answer to Ex. 8.1.3]\n",
    "# answer_82 = \n",
    "total_count = r.json()[\"TotalResultCount\"]\n",
    "total_count"
   ]
  },
  {
   "cell_type": "code",
   "execution_count": 57,
   "metadata": {},
   "outputs": [
    {
     "data": {
      "text/html": [
       "<div>\n",
       "<style scoped>\n",
       "    .dataframe tbody tr th:only-of-type {\n",
       "        vertical-align: middle;\n",
       "    }\n",
       "\n",
       "    .dataframe tbody tr th {\n",
       "        vertical-align: top;\n",
       "    }\n",
       "\n",
       "    .dataframe thead th {\n",
       "        text-align: right;\n",
       "    }\n",
       "</style>\n",
       "<table border=\"1\" class=\"dataframe\">\n",
       "  <thead>\n",
       "    <tr style=\"text-align: right;\">\n",
       "      <th></th>\n",
       "      <th>AnonymousEmployer</th>\n",
       "      <th>AssignmentStartDate</th>\n",
       "      <th>AutomatchType</th>\n",
       "      <th>Country</th>\n",
       "      <th>DetailsUrl</th>\n",
       "      <th>EmploymentType</th>\n",
       "      <th>HasLocationValues</th>\n",
       "      <th>HiringOrgCVR</th>\n",
       "      <th>HiringOrgName</th>\n",
       "      <th>ID</th>\n",
       "      <th>...</th>\n",
       "      <th>UseWorkPlaceAddressForJoblog</th>\n",
       "      <th>Weight</th>\n",
       "      <th>WorkHours</th>\n",
       "      <th>WorkPlaceAbroad</th>\n",
       "      <th>WorkPlaceAddress</th>\n",
       "      <th>WorkPlaceCity</th>\n",
       "      <th>WorkPlaceNotStatic</th>\n",
       "      <th>WorkPlaceOtherAddress</th>\n",
       "      <th>WorkPlacePostalCode</th>\n",
       "      <th>WorkplaceID</th>\n",
       "    </tr>\n",
       "  </thead>\n",
       "  <tbody>\n",
       "    <tr>\n",
       "      <th>0</th>\n",
       "      <td>False</td>\n",
       "      <td>0001-01-01T00:00:00</td>\n",
       "      <td>0</td>\n",
       "      <td>Danmark</td>\n",
       "      <td>https://job.jobnet.dk/CV/FindWork/Details/5031548</td>\n",
       "      <td></td>\n",
       "      <td>True</td>\n",
       "      <td>29190658</td>\n",
       "      <td>Region Sjælland</td>\n",
       "      <td>5031548</td>\n",
       "      <td>...</td>\n",
       "      <td>False</td>\n",
       "      <td>1.0</td>\n",
       "      <td>Fuldtid</td>\n",
       "      <td>False</td>\n",
       "      <td>Fælledvej 11</td>\n",
       "      <td>Slagelse</td>\n",
       "      <td>False</td>\n",
       "      <td>True</td>\n",
       "      <td>4200</td>\n",
       "      <td>61350</td>\n",
       "    </tr>\n",
       "    <tr>\n",
       "      <th>1</th>\n",
       "      <td>False</td>\n",
       "      <td>0001-01-01T00:00:00</td>\n",
       "      <td>0</td>\n",
       "      <td>Danmark</td>\n",
       "      <td>https://job.jobnet.dk/CV/FindWork/Details/5031545</td>\n",
       "      <td></td>\n",
       "      <td>True</td>\n",
       "      <td>26378427</td>\n",
       "      <td>Glitter Rosengårds Centeret</td>\n",
       "      <td>5031545</td>\n",
       "      <td>...</td>\n",
       "      <td>True</td>\n",
       "      <td>1.0</td>\n",
       "      <td>Deltid</td>\n",
       "      <td>False</td>\n",
       "      <td>Ørbækvej 75</td>\n",
       "      <td>Odense SØ</td>\n",
       "      <td>False</td>\n",
       "      <td>False</td>\n",
       "      <td>5220</td>\n",
       "      <td>132599</td>\n",
       "    </tr>\n",
       "    <tr>\n",
       "      <th>2</th>\n",
       "      <td>False</td>\n",
       "      <td>0001-01-01T00:00:00</td>\n",
       "      <td>0</td>\n",
       "      <td>Danmark</td>\n",
       "      <td>https://job.jobnet.dk/CV/FindWork/Details/5031546</td>\n",
       "      <td></td>\n",
       "      <td>True</td>\n",
       "      <td>37851582</td>\n",
       "      <td>Memox og Øresund Psykoterapi ApS</td>\n",
       "      <td>5031546</td>\n",
       "      <td>...</td>\n",
       "      <td>True</td>\n",
       "      <td>1.0</td>\n",
       "      <td>Fuldtid</td>\n",
       "      <td>False</td>\n",
       "      <td>Eliasgade 10</td>\n",
       "      <td>København S</td>\n",
       "      <td>False</td>\n",
       "      <td>False</td>\n",
       "      <td>2300</td>\n",
       "      <td>123290</td>\n",
       "    </tr>\n",
       "    <tr>\n",
       "      <th>3</th>\n",
       "      <td>False</td>\n",
       "      <td>0001-01-01T00:00:00</td>\n",
       "      <td>0</td>\n",
       "      <td>Danmark</td>\n",
       "      <td>https://job.jobnet.dk/CV/FindWork/Details/5031538</td>\n",
       "      <td></td>\n",
       "      <td>True</td>\n",
       "      <td>34076510</td>\n",
       "      <td>Halberg A/S</td>\n",
       "      <td>5031538</td>\n",
       "      <td>...</td>\n",
       "      <td>True</td>\n",
       "      <td>1.0</td>\n",
       "      <td>Fuldtid</td>\n",
       "      <td>False</td>\n",
       "      <td>Porthusvej 100</td>\n",
       "      <td>Svendborg</td>\n",
       "      <td>False</td>\n",
       "      <td>False</td>\n",
       "      <td>5700</td>\n",
       "      <td>0</td>\n",
       "    </tr>\n",
       "    <tr>\n",
       "      <th>4</th>\n",
       "      <td>False</td>\n",
       "      <td>0001-01-01T00:00:00</td>\n",
       "      <td>0</td>\n",
       "      <td>Danmark</td>\n",
       "      <td>https://job.jobnet.dk/CV/FindWork/Details/5031544</td>\n",
       "      <td></td>\n",
       "      <td>True</td>\n",
       "      <td>29188572</td>\n",
       "      <td>Borgerskoleafdelingen</td>\n",
       "      <td>5031544</td>\n",
       "      <td>...</td>\n",
       "      <td>True</td>\n",
       "      <td>1.0</td>\n",
       "      <td>Fuldtid</td>\n",
       "      <td>False</td>\n",
       "      <td>Skimminge 19A</td>\n",
       "      <td>Maribo</td>\n",
       "      <td>False</td>\n",
       "      <td>False</td>\n",
       "      <td>4930</td>\n",
       "      <td>127167</td>\n",
       "    </tr>\n",
       "  </tbody>\n",
       "</table>\n",
       "<p>5 rows × 44 columns</p>\n",
       "</div>"
      ],
      "text/plain": [
       "   AnonymousEmployer  AssignmentStartDate  AutomatchType  Country  \\\n",
       "0              False  0001-01-01T00:00:00              0  Danmark   \n",
       "1              False  0001-01-01T00:00:00              0  Danmark   \n",
       "2              False  0001-01-01T00:00:00              0  Danmark   \n",
       "3              False  0001-01-01T00:00:00              0  Danmark   \n",
       "4              False  0001-01-01T00:00:00              0  Danmark   \n",
       "\n",
       "                                          DetailsUrl EmploymentType  \\\n",
       "0  https://job.jobnet.dk/CV/FindWork/Details/5031548                  \n",
       "1  https://job.jobnet.dk/CV/FindWork/Details/5031545                  \n",
       "2  https://job.jobnet.dk/CV/FindWork/Details/5031546                  \n",
       "3  https://job.jobnet.dk/CV/FindWork/Details/5031538                  \n",
       "4  https://job.jobnet.dk/CV/FindWork/Details/5031544                  \n",
       "\n",
       "   HasLocationValues  HiringOrgCVR                     HiringOrgName       ID  \\\n",
       "0               True      29190658                   Region Sjælland  5031548   \n",
       "1               True      26378427       Glitter Rosengårds Centeret  5031545   \n",
       "2               True      37851582  Memox og Øresund Psykoterapi ApS  5031546   \n",
       "3               True      34076510                       Halberg A/S  5031538   \n",
       "4               True      29188572             Borgerskoleafdelingen  5031544   \n",
       "\n",
       "   ...  UseWorkPlaceAddressForJoblog  Weight  WorkHours WorkPlaceAbroad  \\\n",
       "0  ...                         False     1.0    Fuldtid           False   \n",
       "1  ...                          True     1.0     Deltid           False   \n",
       "2  ...                          True     1.0    Fuldtid           False   \n",
       "3  ...                          True     1.0    Fuldtid           False   \n",
       "4  ...                          True     1.0    Fuldtid           False   \n",
       "\n",
       "  WorkPlaceAddress WorkPlaceCity WorkPlaceNotStatic WorkPlaceOtherAddress  \\\n",
       "0     Fælledvej 11      Slagelse              False                  True   \n",
       "1      Ørbækvej 75     Odense SØ              False                 False   \n",
       "2     Eliasgade 10   København S              False                 False   \n",
       "3   Porthusvej 100     Svendborg              False                 False   \n",
       "4    Skimminge 19A        Maribo              False                 False   \n",
       "\n",
       "   WorkPlacePostalCode WorkplaceID  \n",
       "0                 4200       61350  \n",
       "1                 5220      132599  \n",
       "2                 2300      123290  \n",
       "3                 5700           0  \n",
       "4                 4930      127167  \n",
       "\n",
       "[5 rows x 44 columns]"
      ]
     },
     "execution_count": 57,
     "metadata": {},
     "output_type": "execute_result"
    }
   ],
   "source": [
    "answer_82 = pd.DataFrame(r.json()[\"JobPositionPostings\"])\n",
    "answer_82.head()"
   ]
  },
  {
   "cell_type": "code",
   "execution_count": 59,
   "metadata": {
    "deletable": false,
    "editable": false,
    "nbgrader": {
     "checksum": "a353e060971a565cb33498db98d2aaa5",
     "grade": true,
     "grade_id": "problem_82_tests",
     "locked": true,
     "points": 1,
     "schema_version": 1,
     "solution": false
    }
   },
   "outputs": [],
   "source": [
    "assert answer_82.shape == (20,44)"
   ]
  }
 ],
 "metadata": {
  "kernelspec": {
   "display_name": "Python 3",
   "language": "python",
   "name": "python3"
  },
  "language_info": {
   "codemirror_mode": {
    "name": "ipython",
    "version": 3
   },
   "file_extension": ".py",
   "mimetype": "text/x-python",
   "name": "python",
   "nbconvert_exporter": "python",
   "pygments_lexer": "ipython3",
   "version": "3.7.3"
  }
 },
 "nbformat": 4,
 "nbformat_minor": 2
}
